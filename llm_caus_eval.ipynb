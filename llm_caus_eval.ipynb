{
  "nbformat": 4,
  "nbformat_minor": 0,
  "metadata": {
    "colab": {
      "provenance": []
    },
    "kernelspec": {
      "name": "python3",
      "display_name": "Python 3"
    },
    "language_info": {
      "name": "python"
    }
  },
  "cells": [
    {
      "cell_type": "markdown",
      "source": [
        "## Evaluation of LLM Performance for Causality Classification"
      ],
      "metadata": {
        "id": "f6SsBX3ml_Tw"
      }
    },
    {
      "cell_type": "markdown",
      "source": [
        "### API call, model list, imports"
      ],
      "metadata": {
        "id": "tNBCDGXyibqx"
      }
    },
    {
      "cell_type": "code",
      "execution_count": null,
      "metadata": {
        "id": "og0lUWpPK8ci"
      },
      "outputs": [],
      "source": [
        "import numpy as np\n",
        "from sklearn.metrics import f1_score\n",
        "import requests\n",
        "import json\n",
        "from google.colab import userdata\n",
        "import re\n",
        "\n",
        "OPENROUTER_API_KEY = userdata.get('OPENROUTER_API_KEY')\n",
        "\n",
        "from openai import OpenAI\n",
        "\n",
        "client = OpenAI(\n",
        "  base_url=\"https://openrouter.ai/api/v1\",\n",
        "  api_key=OPENROUTER_API_KEY,\n",
        ")\n",
        "\n",
        "model_list = ['openai/gpt-4o-mini',\n",
        "              'anthropic/claude-3.7-sonnet',\n",
        "              'google/gemini-2.5-flash-preview',\n",
        "              'deepseek/deepseek-chat-v3-0324',\n",
        "              'meta-llama/llama-3.3-70b-instruct',\n",
        "              'mistralai/mistral-nemo',\n",
        "              'qwen/qwen3-235b-a22b',\n",
        "              'amazon/nova-lite-v1',\n",
        "              'cohere/command-r-08-2024']"
      ]
    },
    {
      "cell_type": "markdown",
      "source": [
        "### Defined functions (prompt, model run, evaluation functions)"
      ],
      "metadata": {
        "id": "3FHLkTQMiyMm"
      }
    },
    {
      "cell_type": "code",
      "source": [
        "### Prompting functions\n",
        "\n",
        "def prompt_zeroshot(sentence):\n",
        "    return (f\"\"\"You are an expert in identifying causal links. Perform classification for an input sentence according to the following categories:\\n\\n\n",
        "    - **Strong Causation**: A sentence that explains a cause-effect relation, possibly detailing multiple steps in the causal process.\\n\n",
        "    - **Contrastive**: A sentence that explains a relation between multiple multiple pairs of variables, with each pair in opposition to another.\\n\n",
        "    - **Weak Causation**: A sentence that explains relationships between variables with indirect causality, emphasising the role of features or conscious behaviors.\\n\n",
        "    - **No Explanation**: A sentence that does not provide an explanation.\\n\\n\n",
        "    Your response must ONLY be the name of the category the sentence belongs to. No other text or explanation.\\n\\n\n",
        "    **Input Sentence**: {sentence}\\n\n",
        "    **Output**:\"\"\")\n",
        "\n",
        "def prompt_fewshot(sentence):\n",
        "    return (f\"\"\"You are an expert in identifying causal links. Perform classification for an input sentence according to the following categories:\\n\\n\n",
        "    - **Strong Causation**: A sentence that explains a cause-effect relation, possibly detailing multiple steps in the causal process.\\n\n",
        "    - **Contrastive**: A sentence that explains a relation between multiple multiple pairs of variables, with each pair in opposition to another.\\n\n",
        "    - **Weak Causation**: A sentence that explains relationships between variables with indirect causality, emphasising the role of features or conscious behaviors.\\n\n",
        "    - **No Explanation**: A sentence that does not provide an explanation.\\n\\n\n",
        "    These are examples of classified sentences:\\n\\n\n",
        "    **Input Sentence**:When two tectonic plates collide or move toward each other, immense pressure builds up as the plates push against one another, resulting in the folding, faulting, and uplifting of the Earth's crust and forming mountain ranges over millions of years.\\n\n",
        "    **Output:**Strong Causation\\n\n",
        "    **Input Sentence**: In mutualistic relationships, both species benefit from the interaction, like bees pollinating flowers, while in coevolution, species evolve in response to each other, such as the adaptation of predator and prey to one another’s strategies.\\n\n",
        "    **Output**: Contrastive\\n\n",
        "    **Input Sentence**: Cross-sectional studies are chosen for their speed, low cost, ability to analyze a large population at once, efficiency in identifying health trends, and ease of interpretation.\\n\n",
        "    **Output**:Weak Causation\\n\n",
        "    **Input Sentence**: One is a genius, the other's insane, it's the two cartoon mice.\\n\n",
        "    **Output**:No Explanation.\\n\\n\n",
        "    Your response must ONLY be the name of the category the sentence belongs to. No other text or explanation.\\n\\n\n",
        "    **Input Sentence**: {sentence}\\n\n",
        "    **Output**:\"\"\")\n",
        "\n",
        "def prompt_chainofthought(sentence):\n",
        "    return (f\"\"\"You are an expert in identifying causal links. Perform classification for an input sentence according to the following categories:\\n\\n\n",
        "    - **Strong Causation**: A sentence that explains a cause-effect relation, possibly detailing multiple steps in the causal process.\\n\n",
        "    - **Contrastive**: A sentence that explains a relation between multiple multiple pairs of variables, with each pair in opposition to another.\\n\n",
        "    - **Weak Causation**: A sentence that explains relationships between variables with indirect causality, emphasising the role of features or conscious behaviors.\\n\n",
        "    - **No Explanation**: A sentence that does not provide an explanation.\\n\\n\n",
        "    These are examples of classified sentences:\\n\\n\n",
        "    **Input Sentence**:When two tectonic plates collide or move toward each other, immense pressure builds up as the plates push against one another, resulting in the folding, faulting, and uplifting of the Earth's crust and forming mountain ranges over millions of years.\\n\n",
        "    **Output:**The sentence explains a cause-effect relation between tectonic plates colliding and the folding of the Earth's crust. The folding of the Earth's crust is related to the mountains rising. The category is: Strong Causation\\n\n",
        "    **Input Sentence**: In mutualistic relationships, both species benefit from the interaction, like bees pollinating flowers, while in coevolution, species evolve in response to each other, such as the adaptation of predator and prey to one another’s strategies.\\n\n",
        "    **Output**: The sentence explains how mutualistic relationships work with an example, and then explains coevolution, which is a different situation, to make a comparison. The category is: Contrastive\\n\n",
        "    **Input Sentence**: Cross-sectional studies are chosen for their speed, low cost, ability to analyze a large population at once, efficiency in identifying health trends, and ease of interpretation.\\n\n",
        "    **Output**: The sentence identifies multiple reason for choosing cross-sectional studies. Since the studies are chosen, the sentence expresses conscious behavior. The category is: Weak Causation\\n\n",
        "    **Input Sentence**: One is a genius, the other's insane, it's the two cartoon mice.\\n\n",
        "    **Output**: The sentence has no causal explanations, no contrast between different examples and does not present evolutionary features or behavior patterns. The category is: No Explanation.\\n\\n\n",
        "    **Input Sentence**: {sentence}\\n\n",
        "    **Output**:\"\"\")\n",
        "\n",
        "### Model running function for selected list of LLMs\n",
        "\n",
        "def multiLLM_run(list_of_models, list_of_sentences, prompt_type):\n",
        "  for mod in list_of_models:\n",
        "    selected_model = mod\n",
        "    file_out = selected_model.split(\"/\")[1]+\".txt\"\n",
        "    out_list = list()\n",
        "    for sentence in list_of_sentences:\n",
        "      completion = client.chat.completions.create(\n",
        "        model=selected_model,\n",
        "        temperature=0,\n",
        "        max_tokens=256,\n",
        "        response_format={\"type\": \"text\"},\n",
        "        messages=[\n",
        "          {\n",
        "            \"role\": \"user\",\n",
        "            \"content\": prompt_type(sentence)\n",
        "          }\n",
        "        ]\n",
        "      )\n",
        "      out_list.append(completion.choices[0].message.content)\n",
        "    with open(file_out, \"w\") as out:\n",
        "      out.write(\"\\n\".join(out_list))\n",
        "\n",
        "### Evaluation functions for zero-few shot and cleaned chain-of-thought\n",
        "\n",
        "def x_shot_eval(shot_number, model_list, truth_list):\n",
        "  for mod in model_list:\n",
        "    modname = shot_number+'shot-'+mod.split(\"/\")[1]+'.txt'\n",
        "    modpred = list()\n",
        "    with open(modname, 'r') as outp:\n",
        "      for line in outp:\n",
        "        c3 = ''.join( c for c in line if  c not in '*\"[1]' )\n",
        "        klist = list(k for k in mod_valkeys.keys() if k in c3.strip())\n",
        "        modpred.append(mod_valkeys[klist[0]])\n",
        "    if len(modpred) < len(truth_list):\n",
        "      modpred.extend([3] * (len(truth_list) - len(modpred)))\n",
        "    evals_dic[modname.strip('.txt')] = modpred\n",
        "    print(modname, \"///\", f1_score(truth_list, modpred, average='micro'))\n",
        "\n",
        "def cot_eval(model_list, truth_list):\n",
        "  for mod in model_list:\n",
        "    modname = 'cleancot-'+mod.split(\"/\")[1]+'.txt'\n",
        "    modpred = list()\n",
        "    with open(modname, 'r') as outp:\n",
        "      for line in outp:\n",
        "        modpred.append(mod_valkeys[line.strip()])\n",
        "    if len(modpred) < len(truth_list):\n",
        "      modpred.extend([3] * (len(truth_list) - len(modpred)))\n",
        "    evals_dic[modname.strip('.txt')] = modpred\n",
        "    print(modname, \"///\", f1_score(truth_list, modpred, average='micro'))"
      ],
      "metadata": {
        "id": "y1GTTCC4LBqw"
      },
      "execution_count": null,
      "outputs": []
    },
    {
      "cell_type": "markdown",
      "source": [
        "### Dataset processing (sentence list for prompting, list of ground truth labels)"
      ],
      "metadata": {
        "id": "DQNh0QKiktd0"
      }
    },
    {
      "cell_type": "code",
      "source": [
        "### Open the SciExpl tsv file to process the dataset\n",
        "\n",
        "sents = []\n",
        "\n",
        "with open(\"scientific_explanation_dataset.tsv\", \"r\") as sciexpl:\n",
        "  for line in sciexpl:\n",
        "    sent = line.split(\"\\t\")[0]\n",
        "    sents.append(sent.strip('\" '))\n",
        "del sents[0]\n",
        "\n",
        "### Key dictionary to convert into numerical label for later automated scoring\n",
        "\n",
        "valkeys = {'Strong Cause':0,\n",
        "           'Weak Cause':1,\n",
        "           'Multi-path / Contrastive':2,\n",
        "           'No Explanation':3}\n",
        "ground_truth = []\n",
        "\n",
        "with open(\"scientific_explanation_dataset.tsv\", \"r\") as sciexpl:\n",
        "  for line in sciexpl:\n",
        "    sent = line.split(\"\\t\")[2]\n",
        "    if sent.strip() != 'Second Categorization':\n",
        "      ground_truth.append(valkeys[sent.strip()])\n",
        "\n",
        "evals_dic = dict()\n",
        "\n",
        "mod_valkeys = {'Strong Causation':0,\n",
        "               'Strong':0,\n",
        "               'Strong C':0,\n",
        "               'Strong Caus':0,\n",
        "               'Weak Causation':1,\n",
        "               'Contrastive':2,\n",
        "               'Contr':2,\n",
        "               'No Explanation':3,\n",
        "               '':3,\n",
        "               '[1]':3}"
      ],
      "metadata": {
        "id": "2EK2vcDXjov6"
      },
      "execution_count": null,
      "outputs": []
    },
    {
      "cell_type": "markdown",
      "source": [
        "### Running the LLMs"
      ],
      "metadata": {
        "id": "5GoI7sI4l31g"
      }
    },
    {
      "cell_type": "code",
      "source": [
        "multiLLM_run(model_list, sents, prompt_chainofthought)"
      ],
      "metadata": {
        "id": "kpv9dQQGVR7O"
      },
      "execution_count": null,
      "outputs": []
    },
    {
      "cell_type": "markdown",
      "source": [
        "### Evaluation and plotting of matrices"
      ],
      "metadata": {
        "id": "fvU9u7cKkUzE"
      }
    },
    {
      "cell_type": "code",
      "source": [
        "x_shot_eval('zero',model_list,ground_truth)"
      ],
      "metadata": {
        "colab": {
          "base_uri": "https://localhost:8080/"
        },
        "id": "vdg6WabV8Xzn",
        "outputId": "1f1d4932-838a-46e5-93e8-3bd008bed890"
      },
      "execution_count": null,
      "outputs": [
        {
          "output_type": "stream",
          "name": "stdout",
          "text": [
            "zeroshot-gpt-4o-mini.txt /// 0.5955882352941176\n",
            "zeroshot-claude-3.7-sonnet.txt /// 0.6875\n",
            "zeroshot-gemini-2.5-flash-preview.txt /// 0.6544117647058824\n",
            "zeroshot-deepseek-chat-v3-0324.txt /// 0.5882352941176471\n",
            "zeroshot-llama-3.3-70b-instruct.txt /// 0.6360294117647058\n",
            "zeroshot-mistral-nemo.txt /// 0.5514705882352942\n",
            "zeroshot-qwen3-235b-a22b.txt /// 0.36764705882352944\n",
            "zeroshot-nova-lite-v1.txt /// 0.6139705882352942\n",
            "zeroshot-command-r-08-2024.txt /// 0.5036764705882353\n"
          ]
        }
      ]
    },
    {
      "cell_type": "code",
      "source": [
        "x_shot_eval('few',model_list,ground_truth)"
      ],
      "metadata": {
        "colab": {
          "base_uri": "https://localhost:8080/"
        },
        "id": "5uX-SUpuBPZy",
        "outputId": "7bf534f4-780a-4597-bcc8-4502a190a1f3"
      },
      "execution_count": null,
      "outputs": [
        {
          "output_type": "stream",
          "name": "stdout",
          "text": [
            "fewshot-gpt-4o-mini.txt /// 0.6764705882352942\n",
            "fewshot-claude-3.7-sonnet.txt /// 0.8419117647058824\n",
            "fewshot-gemini-2.5-flash-preview.txt /// 0.8272058823529411\n",
            "fewshot-deepseek-chat-v3-0324.txt /// 0.6838235294117647\n",
            "fewshot-llama-3.3-70b-instruct.txt /// 0.7242647058823529\n",
            "fewshot-mistral-nemo.txt /// 0.7352941176470589\n",
            "fewshot-qwen3-235b-a22b.txt /// 0.33088235294117646\n",
            "fewshot-nova-lite-v1.txt /// 0.6507352941176471\n",
            "fewshot-command-r-08-2024.txt /// 0.6544117647058824\n"
          ]
        }
      ]
    },
    {
      "cell_type": "code",
      "source": [
        "cot_eval(model_list, ground_truth)"
      ],
      "metadata": {
        "colab": {
          "base_uri": "https://localhost:8080/"
        },
        "id": "kf4wCY_RAh0A",
        "outputId": "d206c29e-49c2-407e-843f-d5dbc66f4431"
      },
      "execution_count": null,
      "outputs": [
        {
          "output_type": "stream",
          "name": "stdout",
          "text": [
            "cleancot-gpt-4o-mini.txt /// 0.7205882352941176\n",
            "cleancot-claude-3.7-sonnet.txt /// 0.8161764705882353\n",
            "cleancot-gemini-2.5-flash-preview.txt /// 0.8455882352941176\n",
            "cleancot-deepseek-chat-v3-0324.txt /// 0.7095588235294118\n",
            "cleancot-llama-3.3-70b-instruct.txt /// 0.7463235294117647\n",
            "cleancot-mistral-nemo.txt /// 0.35294117647058826\n",
            "cleancot-qwen3-235b-a22b.txt /// 0.06985294117647059\n",
            "cleancot-nova-lite-v1.txt /// 0.7132352941176471\n",
            "cleancot-command-r-08-2024.txt /// 0.6580882352941176\n"
          ]
        }
      ]
    },
    {
      "cell_type": "code",
      "source": [
        "import matplotlib.pyplot as plt\n",
        "from sklearn.metrics import confusion_matrix, ConfusionMatrixDisplay\n",
        "\n",
        "\n",
        "predictions = evals_dic['zeroshot-gemini-2.5-flash-preview']\n",
        "cm = confusion_matrix(ground_truth, predictions, labels=[0,1,2,3],)\n",
        "disp = ConfusionMatrixDisplay(confusion_matrix=cm,\n",
        "                              display_labels=[0,1,2,3])\n",
        "disp.plot(cmap='bone')\n",
        "plt.show()"
      ],
      "metadata": {
        "colab": {
          "base_uri": "https://localhost:8080/",
          "height": 449
        },
        "id": "f2asymyi5-kw",
        "outputId": "7d5e2636-14cf-4373-fb6f-2398f902a267"
      },
      "execution_count": null,
      "outputs": [
        {
          "output_type": "display_data",
          "data": {
            "text/plain": [
              "<Figure size 640x480 with 2 Axes>"
            ],
            "image/png": "[encoded data removed]"
          },
          "metadata": {}
        }
      ]
    }
  ]
}